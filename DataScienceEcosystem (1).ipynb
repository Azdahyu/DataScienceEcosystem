{
 "cells": [
  {
   "cell_type": "markdown",
   "id": "7130d21a-7ca8-43d7-ba48-13a7a28ffaaf",
   "metadata": {},
   "source": [
    "# Data Science Tools and Ecosystem"
   ]
  },
  {
   "cell_type": "markdown",
   "id": "f188faad-54f1-4e1d-8d65-e112d0d0897a",
   "metadata": {},
   "source": [
    "**In this notebook, Data Science Tools and Ecosystem are summarized**"
   ]
  },
  {
   "cell_type": "markdown",
   "id": "1042709e-020c-4192-96f7-ae1ccce9d813",
   "metadata": {},
   "source": [
    "**Objectives:**\n",
    "\n",
    "+ List popular languages for Data Science\n",
    "+ List commonly used libraries used by Data Scientists\n",
    "+ List some open source development environment toold used in Data Science"
   ]
  },
  {
   "cell_type": "markdown",
   "id": "df83033a-40e7-4488-94bb-412f589e666e",
   "metadata": {},
   "source": [
    "Some of the popular languages that Data Scientists use are:\n",
    "\n",
    "1. Python\n",
    "2. R\n",
    "3. Java\n",
    "4. Scala\n",
    "5. PHP\n",
    "6. Ruby\n",
    "7. SQL\n",
    "8. Julia\n",
    "9. C++\n",
    "10. JavaScript\n",
    "11. Visual Basic\n",
    "12. GO"
   ]
  },
  {
   "cell_type": "markdown",
   "id": "bee67830-e10d-45ed-ae84-33e4bd80e9a1",
   "metadata": {},
   "source": [
    "Some of the commonly used libraries used by Data Scientists include:\n",
    "\n",
    "1. Python libraries\n",
    "- Scientific computing libraries (Pandas, NumPy)\n",
    "- Visualization libraries (Matplotlib, Seaborn)\n",
    "- High level machine learning and deep learning libraries (Scikit-learn for ML, Keras for DL)\n",
    "- Deep learning libraries (TensorFlow, PyTorch)\n",
    "2. Scala libraries\n",
    "  - Vegas for statistical visualizations\n",
    "  - BigDL for DL\n",
    "3. R libraries\n",
    "  - ggplot2 for data visualization\n",
    "  - Libraries that allow you to interface with Keras and TensorFlow"
   ]
  },
  {
   "cell_type": "markdown",
   "id": "08d96d40-6b89-4986-ac97-97c16d0cf3c4",
   "metadata": {},
   "source": [
    "| Data Science Tools |\n",
    "---------------\n",
    "| R Studio |\n",
    "| Jupyter Notebook |\n",
    "| MS Visual Studio |"
   ]
  },
  {
   "cell_type": "markdown",
   "id": "0221e4f6-6b62-4ebe-b4af-fc9f203c2d79",
   "metadata": {},
   "source": [
    "### Below are a few examples of evaluating arithmetic expressions in Python"
   ]
  },
  {
   "cell_type": "code",
   "execution_count": 1,
   "id": "9b9f5ef8-4699-46eb-a744-327a30db4951",
   "metadata": {},
   "outputs": [
    {
     "data": {
      "text/plain": [
       "17"
      ]
     },
     "execution_count": 1,
     "metadata": {},
     "output_type": "execute_result"
    }
   ],
   "source": [
    "# This a simple arithmetic expression to mutiply then add integers\n",
    "\n",
    "(3*4)+5"
   ]
  },
  {
   "cell_type": "code",
   "execution_count": 2,
   "id": "eaad8f6f-38f6-47d8-a559-574c11a90fd5",
   "metadata": {},
   "outputs": [
    {
     "name": "stdout",
     "output_type": "stream",
     "text": [
      "3.3333333333333335\n"
     ]
    }
   ],
   "source": [
    "# This will convert 200 minutes to hours by diving by 60\n",
    "\n",
    "x = 60\n",
    "y = 200 / x\n",
    "print(y)"
   ]
  },
  {
   "cell_type": "markdown",
   "id": "55c6bddd-579b-44cc-b5cf-c1983bb7d42e",
   "metadata": {},
   "source": [
    "## Author\n",
    "Okolie Augustina"
   ]
  }
 ],
 "metadata": {
  "kernelspec": {
   "display_name": "Python 3 (ipykernel)",
   "language": "python",
   "name": "python3"
  },
  "language_info": {
   "codemirror_mode": {
    "name": "ipython",
    "version": 3
   },
   "file_extension": ".py",
   "mimetype": "text/x-python",
   "name": "python",
   "nbconvert_exporter": "python",
   "pygments_lexer": "ipython3",
   "version": "3.11.9"
  }
 },
 "nbformat": 4,
 "nbformat_minor": 5
}
